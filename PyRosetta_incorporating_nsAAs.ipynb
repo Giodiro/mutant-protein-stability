{
 "cells": [
  {
   "cell_type": "code",
   "execution_count": 11,
   "metadata": {
    "collapsed": false
   },
   "outputs": [],
   "source": [
    "# Imports\n",
    "import sys, os\n",
    "import re\n",
    "import numpy as np\n",
    "\n",
    "# For some reason everything goes to shit if you don't initialize in the PyRosetta install dir...\n",
    "pyrosetta_dir = \"/Users/cwbrown/src/PyRosetta.monolith.mac.release-96\"\n",
    "working_dir = os.getcwd()\n",
    "os.chdir(pyrosetta_dir)\n",
    "\n",
    "from rosetta import *\n",
    "\n",
    "# Need this for PTMs\n",
    "from rosetta.core.pose import add_variant_type_to_pose_residue\n",
    "\n",
    "# Some of these don't actually get used\n",
    "from toolbox import mutate_residue, cleanATOM, generate_resfile_from_pose, mutants\n",
    "\n",
    "# Initialize Rosetta\n",
    "init(extra_options=\"-mute core -mute basic\")\n",
    "\n",
    "# Switch back to the starting directory\n",
    "os.chdir(working_dir)"
   ]
  },
  {
   "cell_type": "markdown",
   "metadata": {},
   "source": [
    "# Basic Things:\n",
    "\n",
    "1. nsAAs require special rotamer libraries that don't ship with the standard PyRosetta install. BarrickLab has\n",
    "   a copy of these (see \"Rotamer Libraries\") that you'll need to set up in your local PyRosetta install\n",
    "        \n",
    "2. nsAAs can't use the standard score function supplied by the get_fa_scorefxn() method, so you need to set up\n",
    "   a new score function using the 'mm_std' weights:"
   ]
  },
  {
   "cell_type": "code",
   "execution_count": 2,
   "metadata": {
    "collapsed": false
   },
   "outputs": [],
   "source": [
    "# Standard Full-Atom Score Function - SegFaults if used on nsAAs\n",
    "fa_sf = get_fa_scorefxn()\n",
    "\n",
    "\n",
    "# ncAA-safe score function using mm_std\n",
    "mm_std_sf = create_score_function(\"mm_std\")"
   ]
  },
  {
   "cell_type": "markdown",
   "metadata": {},
   "source": [
    "# Rotamer Libraries:\n",
    "\n",
    "1. Copy (or symlink?) nsAA rotamer libraries to:\n",
    "    \n",
    "        [PATH_TO_PYROSETTA]/database/rotamer/ncaa_rotlibs/ncaa_rotamer_libraries/alpha_amino_acid\n",
    "            \n",
    "   These currently live on UT Box in:\n",
    "        \n",
    "        Researchers/Brown, Colin/Rosetta/Noncanonical Rotamer Libs/ncaa_rotamer_libraries\n",
    "            \n",
    "2. Make sure all of the nsAA .param files are present in:\n",
    "        \n",
    "        [PATH_TO_PYROSETTA]/database/chemical/residue_type_sets/fa_standard/residue_types/l-ncaa\n",
    "        \n",
    "   They should be there in the default PyRosetta install\n",
    "        \n",
    "3. Make sure any nsAAs you want to use are uncommented in the residues_types.txt file:\n",
    "    \n",
    "        [PATH_TO_PYROSETTA]/database/chemical/residue_type_sets/fa_standard/residues_types.txt"
   ]
  },
  {
   "cell_type": "markdown",
   "metadata": {},
   "source": [
    "### Use this method to mutate a single residue in a `Pose()` object to a specified ncAA"
   ]
  },
  {
   "cell_type": "code",
   "execution_count": 3,
   "metadata": {
    "collapsed": true
   },
   "outputs": [],
   "source": [
    "def mutate_ncaa(pose,residue,ncaa_name,repack=None,minimize=None):\n",
    "    \"\"\"\n",
    "    Swap w/t AA at residue number 'residue' in 'pose' with 'ncaa_name' (3-letter code)\n",
    "    \n",
    "    Return a new Pose object\n",
    "    \n",
    "    Specify a RotamerTrialsMover for 'repack' and a MinMover for 'minimize' if desired \n",
    "        (otherwise no repacking or minimizing)\n",
    "    \n",
    "    Note that this assumes the ncaa .params and .rotlib files have been permanently added to the database\n",
    "    \"\"\"\n",
    "    ncaa_pose = Pose()\n",
    "    ncaa_pose.assign(pose)\n",
    "    \n",
    "    # Get a Residue object for the desired ncAA\n",
    "    chm = core.chemical.ChemicalManager.get_instance()\n",
    "    rts = chm.residue_type_set(\"fa_standard\")\n",
    "    ncaa_res = rosetta.core.conformation.ResidueFactory.create_residue( rts.name_map( ncaa_name ) )\n",
    "    \n",
    "    # replace the target residue with the ncAA\n",
    "    ncaa_pose.replace_residue(residue,ncaa_res,orient_backbone=True)\n",
    "    \n",
    "    # repack and minimize\n",
    "    if repack:\n",
    "        repack.apply(ncaa_pose)\n",
    "    if minimize:\n",
    "        minimize.apply(ncaa_pose)\n",
    "    \n",
    "    return ncaa_pose\n",
    "\n",
    "def make_packer_task_with_residues(pose,residues):\n",
    "    \"\"\"\n",
    "    Builds a packer task with the specified residues activated for repacking.\n",
    "    \n",
    "    Did this to avoid PackerTask.temporarily_* methods which apparently we're not supposed to use\n",
    "    \"\"\"\n",
    "    packer_task = standard_packer_task(pose)\n",
    "    pack_residues = Vector1([x in residues for x in range(1,pose.n_residue())])\n",
    "    packer_task.restrict_to_repacking()\n",
    "    packer_task.restrict_to_residues(pack_residues)\n",
    "    return packer_task\n",
    "\n"
   ]
  },
  {
   "cell_type": "markdown",
   "metadata": {},
   "source": [
    "### ncAA Example: mutating residue T182 (protein coords) of TEM-1 to 3-aminotyrosine"
   ]
  },
  {
   "cell_type": "code",
   "execution_count": 4,
   "metadata": {
    "collapsed": false
   },
   "outputs": [],
   "source": [
    "# Set up MoveMap.\n",
    "mm = MoveMap()\n",
    "mm.set_bb(True)\n",
    "mm.set_chi(True)\n",
    "\n",
    "# Set up a Minimization mover using the mm_std score function\n",
    "min_mover = MinMover()\n",
    "min_mover.movemap(mm)\n",
    "min_mover.score_function(mm_std_sf)\n",
    "min_mover.min_type('linmin')"
   ]
  },
  {
   "cell_type": "code",
   "execution_count": 9,
   "metadata": {
    "collapsed": false
   },
   "outputs": [
    {
     "name": "stdout",
     "output_type": "stream",
     "text": [
      "1M40_ATOM.pdb\n"
     ]
    }
   ],
   "source": [
    "# load a PDB file (in this case TEM-1 Beta-lactamase; note that this file has already been cleaned for use in Rosetta)\n",
    "pdb_filename = \"1M40_ATOM.pdb\"\n",
    "print pdb_filename\n",
    "initial_pose = pose_from_pdb(pdb_filename)"
   ]
  },
  {
   "cell_type": "code",
   "execution_count": 10,
   "metadata": {
    "collapsed": false
   },
   "outputs": [
    {
     "name": "stdout",
     "output_type": "stream",
     "text": [
      "Residue 157: THR (THR, T):\n",
      "Base: THR\n",
      " Properties: POLYMER PROTEIN CANONICAL_AA SC_ORBITALS POLAR METALBINDING ALPHA_AA L_AA\n",
      " Variant types:\n",
      " Main-chain atoms:  N    CA   C  \n",
      " Backbone atoms:    N    CA   C    O    H    HA \n",
      " Side-chain atoms:  CB   OG1  CG2  HB   HG1 1HG2 2HG2 3HG2\n",
      "Atom Coordinates:\n",
      "   N  : 11.735, -5.792, 27.157\n",
      "   CA : 11.874, -5.576, 25.723\n",
      "   C  : 10.584, -4.906, 25.246\n",
      "   O  : 9.533, -5.05, 25.88\n",
      "   CB : 12.122, -6.861, 24.931\n",
      "   OG1: 10.931, -7.649, 25.033\n",
      "   CG2: 13.356, -7.608, 25.411\n",
      "   H  : 11.093, -6.285, 27.447\n",
      "   HA : 12.623, -4.963, 25.569\n",
      "   HB : 12.253, -6.622, 23.99\n",
      "   HG1: 11.04, -8.361, 24.641\n",
      "  1HG2: 13.4881, -8.51195, 24.8167\n",
      "  2HG2: 14.2329, -6.97006, 25.3017\n",
      "  3HG2: 13.2327, -7.8782, 26.459\n",
      "\n",
      "Residue 157: A69 (A69, X):\n",
      "Base: A69\n",
      " Properties: POLYMER PROTEIN POLAR AROMATIC ALPHA_AA L_AA\n",
      " Variant types:\n",
      " Main-chain atoms:  N    CA   C  \n",
      " Backbone atoms:    N    CA   C    O    H    HA \n",
      " Side-chain atoms:  CB   CG   CD1  CD2  CE1  CE2  NZ1  CZ2  OT  1HB  2HB  1HD1 1HD2 1HE2 1HZ1 2HZ1 1HT \n",
      "Atom Coordinates:\n",
      "   N  : 11.735, -5.792, 27.157\n",
      "   CA : 11.874, -5.576, 25.723\n",
      "   C  : 10.584, -4.906, 25.246\n",
      "   O  : 9.533, -5.05, 25.88\n",
      "   CB : 12.0164, -6.88834, 24.9082\n",
      "   CG : 13.1744, -7.7763, 25.3035\n",
      "   CD1: 14.4787, -7.44448, 24.9435\n",
      "   CD2: 12.9617, -8.94136, 26.0139\n",
      "   CE1: 15.5591, -8.23024, 25.294\n",
      "   CE2: 14.0352, -9.75402, 26.3653\n",
      "   NZ1: 16.8618, -7.90398, 24.9074\n",
      "   CZ2: 15.3177, -9.40546, 26.014\n",
      "   OT : 16.4097, -10.1521, 26.3376\n",
      "   H  : 11.093, -6.285, 27.447\n",
      "   HA : 12.623, -4.963, 25.569\n",
      "  1HB : 11.0891, -7.44101, 25.0161\n",
      "  2HB : 12.0989, -6.6231, 23.8574\n",
      "  1HD1: 14.665, -6.54414, 24.3827\n",
      "  1HD2: 11.9653, -9.23313, 26.2947\n",
      "  1HE2: 13.8638, -10.6632, 26.9181\n",
      "  1HZ1: 17.5571, -8.39641, 25.4259\n",
      "  2HZ1: 17.0415, -6.92245, 24.9192\n",
      "  1HT : 16.1547, -10.9142, 26.8378\n",
      "\n"
     ]
    }
   ],
   "source": [
    "# Copy the initial Pose() to use for the wild type\n",
    "wt_pose = Pose()\n",
    "wt_pose.assign(initial_pose)\n",
    "print wt_pose.residue(157)\n",
    "\n",
    "# mutate_ncaa makes a new Pose() object with the specified substitution; here we're using 3-aminotyrosine (code A69)\n",
    "AmY157_pose = mutate_ncaa(initial_pose,157,'A69')\n",
    "print AmY157_pose.residue(157)\n",
    "\n",
    "# Should output \"THR\" for wt_pose and \"A69\" for AmY157_pose"
   ]
  },
  {
   "cell_type": "code",
   "execution_count": 7,
   "metadata": {
    "collapsed": false
   },
   "outputs": [
    {
     "name": "stdout",
     "output_type": "stream",
     "text": [
      "TEM-1 Wild Type: 252.324341\n",
      "AmY157 After Mutating: 832.453342\n",
      "AmY157 After Packing: 613.722465\n",
      "AmY157 After Packing And Minimization: 408.145269\n",
      "ddG: 155.820928\n"
     ]
    }
   ],
   "source": [
    "# Make a Pose to keep the unpacked state of the mutant\n",
    "unpacked_AmY157_pose = Pose()\n",
    "unpacked_AmY157_pose.assign(AmY157_pose)\n",
    "\n",
    "# set up a RotamerTrialsMover for side-chain packing; note that we're only repacking the AmY here\n",
    "task = make_packer_task_with_residues(AmY157_pose,[157,])\n",
    "\n",
    "pack_rotamers_mover = RotamerTrialsMover(mm_std_sf, task)\n",
    "\n",
    "pack_rotamers_mover.apply(AmY157_pose)\n",
    "\n",
    "print \"TEM-1 Wild Type: %f\" % (mm_std_sf(wt_pose),)\n",
    "print \"AmY157 After Mutating: %f\" % (mm_std_sf(unpacked_AmY157_pose),)\n",
    "print \"AmY157 After Packing: %f\" % (mm_std_sf(AmY157_pose),)\n",
    "min_mover.apply(AmY157_pose)\n",
    "print \"AmY157 After Packing And Minimization: %f\" % (mm_std_sf(AmY157_pose),)\n",
    "print \"ddG: %f\" % (mm_std_sf(AmY157_pose)-mm_std_sf(wt_pose))"
   ]
  },
  {
   "cell_type": "markdown",
   "metadata": {},
   "source": [
    "### Take a gander in PyMOL - make sure to run the server script in PyMOL before you do this\n",
    "\n",
    "In the top command line in PyMOL\n",
    "\n",
    "    PyMOL>cd /Path/To/Your/PyRosetta/Install\n",
    "\n",
    "    PyMOL>run PyMOLPyRosettaServer.py"
   ]
  },
  {
   "cell_type": "code",
   "execution_count": null,
   "metadata": {
    "collapsed": true
   },
   "outputs": [],
   "source": [
    "pymol = PyMOL_Mover()\n",
    "wt_pose.pdb_info().name('Wild Type')\n",
    "unpacked_AmY157_pose.pdb_info().name('AmY157_unpacked')\n",
    "AmY157_pose.pdb_info().name('AmY157_PackedMinimized')\n",
    "pymol.apply(wt_pose)\n",
    "pymol.apply(unpacked_AmY157_pose)\n",
    "pymol.apply(AmY157_pose)"
   ]
  },
  {
   "cell_type": "code",
   "execution_count": null,
   "metadata": {
    "collapsed": true
   },
   "outputs": [],
   "source": []
  }
 ],
 "metadata": {
  "kernelspec": {
   "display_name": "Python 2",
   "language": "python",
   "name": "python2"
  },
  "language_info": {
   "codemirror_mode": {
    "name": "ipython",
    "version": 2
   },
   "file_extension": ".py",
   "mimetype": "text/x-python",
   "name": "python",
   "nbconvert_exporter": "python",
   "pygments_lexer": "ipython2",
   "version": "2.7.10"
  }
 },
 "nbformat": 4,
 "nbformat_minor": 0
}
